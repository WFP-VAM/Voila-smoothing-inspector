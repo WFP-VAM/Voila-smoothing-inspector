{
 "cells": [
  {
   "cell_type": "markdown",
   "metadata": {},
   "source": [
    "# Documentation"
   ]
  },
  {
   "cell_type": "code",
   "execution_count": 66,
   "metadata": {},
   "outputs": [],
   "source": [
    "from termcolor import colored"
   ]
  },
  {
   "cell_type": "code",
   "execution_count": 75,
   "metadata": {},
   "outputs": [],
   "source": [
    "def doc_main():\n",
    "    \n",
    "    print('\\033[1m' + 'NDVI ' + '\\033[0m')\n",
    "    print('\\n')\n",
    "    \n",
    "    print(colored('\\033[1m' + 'A0 : ' + '\\033[0m' + 'Raw 16-days values filtered', 'blue'))  \n",
    "    print(\"\\t\" + '\\u2022' + ' product used: ' + 'MOD13A2 and MYD13A2')\n",
    "    print(\"\\t\" + '\\u2022' + ' output: ' + ' 16-days smoothed time series (for MXD, 8-days for MOD or MYD)')\n",
    "    print(\"\\t\" + '\\u2022' + ' number of time the WS is applied: ' + ' 1')\n",
    "    print('\\n')\n",
    "    \n",
    "    print(colored('\\033[1m' + 'A1 : ' + '\\033[0m' + 'Raw 16-days values filtered, then values shifted to midpoint and filtered again for interpolation' , 'green'))\n",
    "    print(\"\\t\" + '\\u2022' + ' product used: ' + 'MOD13A2 and MYD13A2')\n",
    "    print(\"\\t\" + '\\u2022' + ' output: ' + ' daily smoothed time series')\n",
    "    print(\"\\t\" + '\\u2022' + ' number of time the WS is applied: ' + ' 2')\n",
    "    print('\\n')\n",
    "    \n",
    "    print(colored('\\033[1m' + 'A2 : ' + '\\033[0m' + 'Raw 16-days values shifted to midpoint and filtered once' , 'red'))  \n",
    "    print(\"\\t\" + '\\u2022' + ' product used: ' + 'MOD13A2 and MYD13A2')\n",
    "    print(\"\\t\" + '\\u2022' + ' output: ' + ' daily smoothed time series')\n",
    "    print(\"\\t\" + '\\u2022' + ' number of time the WS is applied: ' + ' 1')\n",
    "    print('\\n')\n",
    "    \n",
    "    print(colored('\\033[1m' + 'A3 : ' + '\\033[0m' + 'Raw 16-days values shifted to composite date and filtered once' , 'yellow'))  \n",
    "    print(\"\\t\" + '\\u2022' + ' product used: ' + 'MOD13A2 and MYD13A2')\n",
    "    print(\"\\t\" + '\\u2022' + ' output: ' + ' daily smoothed time series')\n",
    "    print(\"\\t\" + '\\u2022' + ' number of time the WS is applied: ' + ' 1')\n",
    "    print('\\n')\n",
    "    \n",
    "    print('\\033[1m' + 'LST ' + '\\033[0m')\n",
    "    print('\\n')\n",
    "    \n",
    "    print(colored('\\033[1m' + 'A0 : ' + '\\033[0m' + 'Raw 8 days values filtered' , 'blue') )  \n",
    "    print(\"\\t\" + '\\u2022' + ' product used: ' + 'MYD11A2')\n",
    "    print(\"\\t\" + '\\u2022' + ' output: ' + ' 8-days smoothed time series')\n",
    "    print(\"\\t\" + '\\u2022' + ' number of time the WS is applied: ' + ' 1')\n",
    "    print('\\n')\n",
    "    \n",
    "    print(colored('\\033[1m' + 'A1 : ' + '\\033[0m' + 'Raw 8 days values filtered, then values shifted to midpoint and filtered again for interpolation' , 'green') )\n",
    "    print(\"\\t\" + '\\u2022' + ' product used: ' + 'MYD11A2')\n",
    "    print(\"\\t\" + '\\u2022' + ' output: ' + ' daily smoothed time series')\n",
    "    print(\"\\t\" + '\\u2022' + ' number of time the WS is applied: ' + ' 2')\n",
    "    print('\\n')\n",
    "    \n",
    "    print(colored('\\033[1m' + 'A2 : ' + '\\033[0m' + 'Daily values filtered' , 'red') )  \n",
    "    print(\"\\t\" + '\\u2022' + ' product used: ' + 'MYD11A1')\n",
    "    print(\"\\t\" + '\\u2022' + ' output: ' + ' daily smoothed time series')\n",
    "    print(\"\\t\" + '\\u2022' + ' number of time the WS is applied: ' + ' 1')\n",
    "    print('\\n')"
   ]
  }
 ],
 "metadata": {
  "kernelspec": {
   "display_name": "Python 3",
   "language": "python",
   "name": "python3"
  },
  "language_info": {
   "codemirror_mode": {
    "name": "ipython",
    "version": 3
   },
   "file_extension": ".py",
   "mimetype": "text/x-python",
   "name": "python",
   "nbconvert_exporter": "python",
   "pygments_lexer": "ipython3",
   "version": "3.8.1"
  }
 },
 "nbformat": 4,
 "nbformat_minor": 4
}
